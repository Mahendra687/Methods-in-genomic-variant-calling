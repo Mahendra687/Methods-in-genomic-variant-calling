{
 "cells": [
  {
   "cell_type": "markdown",
   "id": "88fc1a76",
   "metadata": {},
   "source": [
    "### Somatic Variant Calling: Installation\n",
    "\n",
    "**GATK:Mutect2**\n",
    "* First we download the GATK package from [Download release](https://github.com/broadinstitute/gatk/releases) using the following **command:**$ wget [link](https://github.com/broadinstitute/gatk/releases/download/4.2.5.0/gatk-4.2.5.0.zip)\n",
    "\n",
    "* Once you have downloaded and unzipped the package using the following **command:**$ unzip gatk-4.2.5.0.zip\n",
    "* Now you will find four files inside the resulting directory:\n",
    "1. gatk\n",
    "2. gatk-package-[version]-local.jar\n",
    "3. gatk-package-[version]-spark.jar\n",
    "4. README.md\n",
    "\n",
    "Navigate the directory using following **command:**$ cd gatk-4.2.5.0/\n",
    "\n",
    "Once you navigate the **/gatk-4.2.5.0$** directory you can run the **Mutect2** using followoing command\n",
    "\n",
    "**For help:** **m@aspire:** /gatk-4.2.5.0$ ./gatk --help\n",
    "\n",
    "**To Run Mutect2:**\n",
    "\n",
    "**m@aspire:** /gatk-4.2.5.0$ ./gatk Mutect2 **\\**\n",
    "\n",
    "-R /home/m/Bench/ref/ref.fa \\\n",
    "-I /home/m/Bench/bams/tumor.bam \\\n",
    "-I /home/m/Bench/bams/normal.bam \\\n",
    "-pon /home/m/Bench/VCF/INDEL.vcf \\\n",
    "--germline-resource /home/m/Bench/VCF/SNP.vcf \\\n",
    "-O /home/m/Bench/result/1_somatic_m2.vcf.gz \\\n",
    "-bamout /home/m/Bench/result/2_tumor_normal_m2.bam\n",
    "\n",
    "For more info.please use the following [link](https://gatk.broadinstitute.org/hc/en-us/articles/360037593851-Mutect2) here.\n",
    "\n",
    "**Note:** all the files should be in the working directory, for my case I used **soft-link** for example: /home/m/Bench/ref/ref.fa\n",
    "__________________________________________________________________________________________________________________\n",
    "**Somatic-sniper**:\n",
    "\n",
    "> - **m@aspire:** conda install -c bioconda somatic-sniper **to install somatic-sniper** or use the [link](http://gmt.genome.wustl.edu/packages/somatic-sniper/install.html) for alternative installation\n",
    "> - **m@aspire:** conda update somatic-sniper **for update**\n",
    "\n",
    "**Run the sniper using following command:** m@aspire:~$ bam-somaticsniper -f ref.fa normal.bam tumor.bam /home/m/crunch/result/outputfilename.tx\n",
    "\n",
    "**Note:** all the file should be in the home or working directory"
   ]
  }
 ],
 "metadata": {
  "kernelspec": {
   "display_name": "Python 3 (ipykernel)",
   "language": "python",
   "name": "python3"
  },
  "language_info": {
   "codemirror_mode": {
    "name": "ipython",
    "version": 3
   },
   "file_extension": ".py",
   "mimetype": "text/x-python",
   "name": "python",
   "nbconvert_exporter": "python",
   "pygments_lexer": "ipython3",
   "version": "3.9.7"
  }
 },
 "nbformat": 4,
 "nbformat_minor": 5
}
